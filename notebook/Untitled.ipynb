{
 "cells": [
  {
   "cell_type": "code",
   "execution_count": 51,
   "id": "f937f513",
   "metadata": {},
   "outputs": [
    {
     "ename": "IndexError",
     "evalue": "too many indices for array: array is 2-dimensional, but 3 were indexed",
     "output_type": "error",
     "traceback": [
      "\u001b[1;31m---------------------------------------------------------------------------\u001b[0m",
      "\u001b[1;31mIndexError\u001b[0m                                Traceback (most recent call last)",
      "\u001b[1;32m<ipython-input-51-0c9215ca6d87>\u001b[0m in \u001b[0;36m<module>\u001b[1;34m\u001b[0m\n\u001b[0;32m      5\u001b[0m \u001b[0mb\u001b[0m \u001b[1;33m=\u001b[0m \u001b[0mnp\u001b[0m\u001b[1;33m.\u001b[0m\u001b[0marray\u001b[0m\u001b[1;33m(\u001b[0m\u001b[1;33m[\u001b[0m\u001b[1;33m[\u001b[0m\u001b[1;36m1\u001b[0m\u001b[1;33m,\u001b[0m\u001b[1;36m2\u001b[0m\u001b[1;33m,\u001b[0m\u001b[1;36m3\u001b[0m\u001b[1;33m,\u001b[0m\u001b[1;36m4\u001b[0m\u001b[1;33m,\u001b[0m\u001b[1;36m5\u001b[0m\u001b[1;33m]\u001b[0m\u001b[1;33m,\u001b[0m \u001b[1;33m[\u001b[0m\u001b[1;36m6\u001b[0m\u001b[1;33m,\u001b[0m\u001b[1;36m7\u001b[0m\u001b[1;33m,\u001b[0m\u001b[1;36m8\u001b[0m\u001b[1;33m,\u001b[0m\u001b[1;36m9\u001b[0m\u001b[1;33m,\u001b[0m\u001b[1;36m0\u001b[0m\u001b[1;33m]\u001b[0m\u001b[1;33m,\u001b[0m \u001b[1;33m[\u001b[0m\u001b[1;36m6\u001b[0m\u001b[1;33m,\u001b[0m\u001b[1;36m7\u001b[0m\u001b[1;33m,\u001b[0m\u001b[1;36m8\u001b[0m\u001b[1;33m,\u001b[0m\u001b[1;36m9\u001b[0m\u001b[1;33m,\u001b[0m\u001b[1;36m2\u001b[0m\u001b[1;33m]\u001b[0m\u001b[1;33m]\u001b[0m\u001b[1;33m)\u001b[0m\u001b[1;33m\u001b[0m\u001b[1;33m\u001b[0m\u001b[0m\n\u001b[0;32m      6\u001b[0m \u001b[0mc\u001b[0m\u001b[1;33m=\u001b[0m  \u001b[0mnp\u001b[0m\u001b[1;33m.\u001b[0m\u001b[0marray\u001b[0m\u001b[1;33m(\u001b[0m\u001b[1;33m[\u001b[0m\u001b[1;36m2\u001b[0m\u001b[1;33m,\u001b[0m\u001b[1;36m5\u001b[0m\u001b[1;33m,\u001b[0m\u001b[1;36m7\u001b[0m\u001b[1;33m]\u001b[0m\u001b[1;33m)\u001b[0m\u001b[1;33m\u001b[0m\u001b[1;33m\u001b[0m\u001b[0m\n\u001b[1;32m----> 7\u001b[1;33m \u001b[0mb\u001b[0m\u001b[1;33m[\u001b[0m\u001b[1;33m:\u001b[0m\u001b[1;33m,\u001b[0m \u001b[0mb\u001b[0m \u001b[1;33m==\u001b[0m \u001b[1;36m1\u001b[0m\u001b[1;33m]\u001b[0m\u001b[1;33m\u001b[0m\u001b[1;33m\u001b[0m\u001b[0m\n\u001b[0m\u001b[0;32m      8\u001b[0m \u001b[1;33m\u001b[0m\u001b[0m\n",
      "\u001b[1;31mIndexError\u001b[0m: too many indices for array: array is 2-dimensional, but 3 were indexed"
     ]
    }
   ],
   "source": [
    "import numpy as np\n",
    "\n",
    "a = np.array([[1,2,3,4,5], [6,7,8,9,1], [6,7,8,9,0]])\n",
    "\n",
    "b = np.array([[1,2,3,4,5], [6,7,8,9,0], [6,7,8,9,2]])\n",
    "c=  np.array([2,5,7])\n",
    "    "
   ]
  },
  {
   "cell_type": "code",
   "execution_count": 57,
   "id": "c825928e",
   "metadata": {},
   "outputs": [
    {
     "name": "stdout",
     "output_type": "stream",
     "text": [
      "{1: 2, 2: 3, 3: 4, 4: 5}\n",
      "{1: 4, 2: 3, 3: 4, 4: 5}\n",
      "{1: 8, 2: 3, 3: 4, 4: 5}\n"
     ]
    }
   ],
   "source": [
    "def abc(a, b) :\n",
    "    a[1] += b\n",
    "    return a\n",
    "\n",
    "a = {1:2, 2:3, 3:4, 4:5}\n",
    "print(a)\n",
    "a = abc(a, 2)\n",
    "print(a)\n",
    "a = abc(a, 4)\n",
    "print(a)"
   ]
  },
  {
   "cell_type": "code",
   "execution_count": 70,
   "id": "adbb07b7",
   "metadata": {},
   "outputs": [
    {
     "data": {
      "text/plain": [
       "{'z': 2, 'x': 3, 'v': 4, 'w': 5}"
      ]
     },
     "execution_count": 70,
     "metadata": {},
     "output_type": "execute_result"
    }
   ],
   "source": [
    "a = {\"a\":2, \"b\":3, \"c\":4, \"d\":5}\n",
    "\n",
    "ch = [\"z\", \"x\", \"v\", \"w\"]\n",
    "for idx, key in enumerate(list(a.keys())) :\n",
    "    a[ch[idx]] = a.pop(key)\n",
    "a"
   ]
  },
  {
   "cell_type": "code",
   "execution_count": 81,
   "id": "ecd0a6ad",
   "metadata": {},
   "outputs": [
    {
     "data": {
      "text/plain": [
       "[17, 29, 41, 53, 55]"
      ]
     },
     "execution_count": 81,
     "metadata": {},
     "output_type": "execute_result"
    }
   ],
   "source": [
    "ac = [1,2,3,4,5]\n",
    "bc = [6,7,8,9,0]\n",
    "\n",
    "ac = np.array([11,22,33,44,55])\n",
    "\n",
    "list(map((lambda a,b :a+b), ac, bc))"
   ]
  },
  {
   "cell_type": "code",
   "execution_count": 85,
   "id": "902ccee8",
   "metadata": {},
   "outputs": [
    {
     "data": {
      "text/plain": [
       "{'1_Male': 0,\n",
       " '2_Female': 1,\n",
       " '3-1_Beard': 2,\n",
       " '3-2_Hat': 3,\n",
       " '3-3_HairAccessory': 4,\n",
       " '3-4_Eyeglasses': 5,\n",
       " '3-5_Sunglasse': 6,\n",
       " '3-6_Mask': 7,\n",
       " '4-1_Angry': 8,\n",
       " '4-2_Disgusted': 9,\n",
       " '4-3_Fearful': 11,\n",
       " '4-4_Happy': 12,\n",
       " '4-5_Neutral': 13,\n",
       " '4-6_Sad': 14,\n",
       " '4-7_Surprised': 15,\n",
       " '5-1_Black': 16,\n",
       " '5-2_Yellow': 17}"
      ]
     },
     "execution_count": 85,
     "metadata": {},
     "output_type": "execute_result"
    }
   ],
   "source": [
    "label_list = ['1_Male', '2_Female',\n",
    "              '3-1_Beard', '3-2_Hat' , '3-3_HairAccessory', '3-4_Eyeglasses', '3-5_Sunglasse', '3-6_Mask',\n",
    "              '4-1_Angry', '4-2_Disgusted', '4-3_Fearful', '4-4_Happy', '4-5_Neutral', '4-6_Sad', '4-7_Surprised',\n",
    "              '5-1_Black', '5-2_Yellow', '5-3_White']\n",
    "\n",
    "test = [0,1,2,3,4,5,6,7,8,9,11,12,13,14,15,16,17]\n",
    "\n",
    "test = { label_list[idx] : v for idx, v in enumerate(test)}\n",
    "test\n"
   ]
  },
  {
   "cell_type": "code",
   "execution_count": 95,
   "id": "105802f9",
   "metadata": {},
   "outputs": [
    {
     "data": {
      "text/plain": [
       "[{'a': [0, 1, 2], 'b': [3, 4, 5], 'c': [6, 7, 8], 'd': [9, 11, 12]},\n",
       " {'a': [0, 1, 2], 'b': [3, 4, 5], 'c': [6, 7, 8], 'd': [9, 11, 12]}]"
      ]
     },
     "execution_count": 95,
     "metadata": {},
     "output_type": "execute_result"
    }
   ],
   "source": [
    "test = [0,1,2,3,4,5,6,7,8,9,11,12,13,14,15,16,17]\n",
    "a = [{\"a\":test[0:3], \"b\":test[3:6], \"c\":test[6:9], \"d\":test[9:12]}, \n",
    "     {\"a\":test[0:3], \"b\":test[3:6], \"c\":test[6:9], \"d\":test[9:12]}, \n",
    "    {\"a\":test[0:3], \"b\":test[3:6], \"c\":test[6:9], \"d\":test[9:12]},\n",
    "    {\"a\":test[0:3], \"b\":test[3:6], \"c\":test[6:9], \"d\":test[9:12]},\n",
    "    {\"a\":test[0:3], \"b\":test[3:6], \"c\":test[6:9], \"d\":test[9:12]}]\n",
    "a[2:4]"
   ]
  },
  {
   "cell_type": "code",
   "execution_count": null,
   "id": "5c718bcc",
   "metadata": {},
   "outputs": [],
   "source": [
    "lambda a : a"
   ]
  }
 ],
 "metadata": {
  "kernelspec": {
   "display_name": "Python 3",
   "language": "python",
   "name": "python3"
  },
  "language_info": {
   "codemirror_mode": {
    "name": "ipython",
    "version": 3
   },
   "file_extension": ".py",
   "mimetype": "text/x-python",
   "name": "python",
   "nbconvert_exporter": "python",
   "pygments_lexer": "ipython3",
   "version": "3.6.13"
  }
 },
 "nbformat": 4,
 "nbformat_minor": 5
}
