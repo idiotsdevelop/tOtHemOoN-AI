{
 "cells": [
  {
   "cell_type": "code",
   "execution_count": 1,
   "id": "6fb574fc",
   "metadata": {},
   "outputs": [],
   "source": [
    "import pandas as pd\n",
    "import os\n",
    "from glob import glob\n",
    "from tqdm import tqdm\n",
    "import numpy as np\n",
    "import matplotlib.pyplot as plt\n",
    "from sklearn.preprocessing import MinMaxScaler\n",
    "from sklearn.model_selection import train_test_split\n",
    "import pyupbit"
   ]
  },
  {
   "cell_type": "code",
   "execution_count": 2,
   "id": "79055f18",
   "metadata": {},
   "outputs": [],
   "source": [
    "import tensorflow as tf\n",
    "from tensorflow.keras.models import Model\n",
    "from tensorflow.keras.layers import Dense, LSTM, Conv1D, Lambda, Input, GlobalAveragePooling1D, Bidirectional\n",
    "from tensorflow.keras.losses import Huber\n",
    "from tensorflow.keras.optimizers import Adam\n",
    "from tensorflow.keras.callbacks import EarlyStopping, ModelCheckpoint"
   ]
  },
  {
   "cell_type": "code",
   "execution_count": 3,
   "id": "77bb5439",
   "metadata": {},
   "outputs": [
    {
     "name": "stdout",
     "output_type": "stream",
     "text": [
      "Model: \"model\"\n",
      "_________________________________________________________________\n",
      "Layer (type)                 Output Shape              Param #   \n",
      "=================================================================\n",
      "input_1 (InputLayer)         [(None, 6, 6)]            0         \n",
      "_________________________________________________________________\n",
      "lstm (LSTM)                  (None, 6, 128)            69120     \n",
      "_________________________________________________________________\n",
      "lstm_1 (LSTM)                (None, 6, 64)             49408     \n",
      "_________________________________________________________________\n",
      "lstm_2 (LSTM)                (None, 6, 32)             12416     \n",
      "_________________________________________________________________\n",
      "global_average_pooling1d (Gl (None, 32)                0         \n",
      "_________________________________________________________________\n",
      "dense (Dense)                (None, 1)                 33        \n",
      "=================================================================\n",
      "Total params: 130,977\n",
      "Trainable params: 130,977\n",
      "Non-trainable params: 0\n",
      "_________________________________________________________________\n"
     ]
    }
   ],
   "source": [
    "def get_model(input_shape):\n",
    "    input = Input(shape=input_shape)\n",
    "    x = LSTM(128, return_sequences=True, activation='tanh', dropout=0.2)(input)\n",
    "    x = LSTM(64, return_sequences=True, activation='tanh', dropout=0.2)(x)\n",
    "    x = LSTM(32, return_sequences=True, activation='tanh', dropout=0.2)(x)\n",
    "    x = GlobalAveragePooling1D()(x)\n",
    "    output = Dense(1)(x)\n",
    "    model = Model(input, output)\n",
    "    return model\n",
    "\n",
    "WINDOW_SIZE = 6\n",
    "feature_n = 6\n",
    "\n",
    "Input_shape = (WINDOW_SIZE, feature_n)\n",
    "model = get_model(Input_shape)\n",
    "model.load_weights('../checkpoints/ckeckpointer.ckpt')\n",
    "\n",
    "model.summary()"
   ]
  },
  {
   "cell_type": "code",
   "execution_count": 4,
   "id": "c53e898f",
   "metadata": {},
   "outputs": [],
   "source": [
    "import tensorflow as tf\n",
    "import pandas as pd\n",
    "import numpy as np\n",
    "import pyupbit\n",
    "from sklearn.preprocessing import MinMaxScaler\n",
    "\n",
    "import os\n",
    "from glob import glob\n",
    "from tqdm import tqdm\n",
    "\n",
    "import matplotlib.pyplot as plt\n",
    "from sklearn.model_selection import train_test_split\n",
    "\n",
    "\n",
    "\n",
    "class Data_preprocess():\n",
    "    def __init__(self, args):\n",
    "        if not hasattr(args, 'data') or args.data is None:\n",
    "            print(args)\n",
    "            self.data, self.label, self.dataset = self.preprocess(\n",
    "                pyupbit.get_ohlcv(ticker=args.ticker, interval=args.interval, to=args.to, count=args.count))\n",
    "        else :\n",
    "            self.data, self.label, self.dataset = self.csv_parsing(args.data)\n",
    "\n",
    "    def MinMax(self, dataset_df):\n",
    "        norm = MinMaxScaler()\n",
    "        norm_dataset = norm.fit_transform(dataset_df)\n",
    "        return pd.DataFrame(norm_dataset, columns=list(dataset_df.columns))\n",
    "\n",
    "    def add_after10(self, dataset_df):\n",
    "        after10 = np.zeros_like(self.norm_dataset['close'])\n",
    "        for i in range(len(dataset_df['close']) - 1):\n",
    "            after10[i] = dataset_df['close'][i + 1]\n",
    "        return after10\n",
    "\n",
    "    def drop_feature(self, dataset_df):\n",
    "        # index(시간) 제거\n",
    "        dataset_df = dataset_df.reset_index(drop=True)\n",
    "        # value 제거\n",
    "        dataset_df = dataset_df.drop(columns=['value'])\n",
    "        return dataset_df\n",
    "\n",
    "    def add_avgPrice(self, dataset_df):\n",
    "        return (dataset_df['high'] + dataset_df['low'] +\n",
    "                dataset_df['open'] + dataset_df['close']) // 4\n",
    "\n",
    "    def preprocess(self, dataset, latest=False):\n",
    "\n",
    "        # drop feature\n",
    "        #dataset_df = self.drop_feature(dataset)\n",
    "        dataset_df = dataset\n",
    "\n",
    "        # avg_price 추가\n",
    "        dataset_df['avg_price'] = self.add_avgPrice(dataset_df)\n",
    "\n",
    "        if latest == True:\n",
    "            # 가장 예전 데이터 삭제 - norm이랑 original 둘 다 적용\n",
    "            self.dataset = self.dataset.drop([self.dataset.index[0]]).drop(columns=['after10'])\n",
    "            self.norm_dataset = self.norm_dataset.drop([self.norm_dataset.index[0]])\n",
    "\n",
    "            # ori dataset에 추가\n",
    "            self.dataset = pd.concat([self.dataset, dataset_df])\n",
    "            self.dataset = self.dataset.reset_index(drop=True)\n",
    "\n",
    "            # min max 정규화 (MinMaxScaler) 적용\n",
    "            self.norm_dataset = self.MinMax(self.dataset)\n",
    "\n",
    "            # after10 추가\n",
    "            self.dataset['after10'] = self.add_after10(self.dataset)\n",
    "\n",
    "\n",
    "        else:\n",
    "            # min max 정규화 (MinMaxScaler) 적용\n",
    "            self.norm_dataset = self.MinMax(dataset_df)\n",
    "\n",
    "            # after10 추가\n",
    "            dataset_df['after10'] = self.add_after10(dataset_df)\n",
    "\n",
    "        # 예측될 값(label)인 10분 후 가격\n",
    "        self.norm_dataset['after10'] = self.add_after10(self.norm_dataset)\n",
    "\n",
    "        return self.norm_dataset.drop(columns=['after10']), self.norm_dataset['after10'], dataset_df\n",
    "\n",
    "    def csv_parsing(self, data_path):\n",
    "        merge_df = pd.DataFrame()\n",
    "        data_folders = glob(os.path.join(data_path, '*'))\n",
    "\n",
    "        for data_folder in tqdm(data_folders):\n",
    "            data_csvs = glob(os.path.join(data_folder,'*.csv'))\n",
    "\n",
    "            for data_csv in data_csvs :\n",
    "                csv_df = pd.read_csv(data_csv).drop(columns=[\"Unnamed: 0\"])\n",
    "                merge_df = pd.concat([merge_df, csv_df], ignore_index=True)\n",
    "\n",
    "        return self.preprocess(merge_df)\n",
    "\n",
    "\n",
    "    # dataset에 window 적용\n",
    "    def windowed_dataset(self, data, label, window_size, batch_size):\n",
    "        sliced_data = tf.data.Dataset.from_tensor_slices(data)\n",
    "        sliced_data = sliced_data.window(window_size, shift=1, stride=1, drop_remainder=True)\n",
    "        sliced_data = sliced_data.flat_map(lambda x: x.batch(window_size))\n",
    "\n",
    "        sliced_label = tf.data.Dataset.from_tensor_slices(label[window_size:])\n",
    "\n",
    "        sliced_dataset = tf.data.Dataset.zip((sliced_data, sliced_label))\n",
    "\n",
    "        return sliced_dataset.batch(batch_size).prefetch(1)\n",
    "\n",
    "\n",
    "\n"
   ]
  },
  {
   "cell_type": "code",
   "execution_count": 6,
   "id": "fdc92de6",
   "metadata": {},
   "outputs": [
    {
     "name": "stdout",
     "output_type": "stream",
     "text": [
      "Model: \"model_2\"\n",
      "_________________________________________________________________\n",
      "Layer (type)                 Output Shape              Param #   \n",
      "=================================================================\n",
      "input_3 (InputLayer)         [(None, 12, 7)]           0         \n",
      "_________________________________________________________________\n",
      "bidirectional_3 (Bidirection (None, 12, 256)           139264    \n",
      "_________________________________________________________________\n",
      "bidirectional_4 (Bidirection (None, 12, 128)           164352    \n",
      "_________________________________________________________________\n",
      "bidirectional_5 (Bidirection (None, 12, 64)            41216     \n",
      "_________________________________________________________________\n",
      "global_average_pooling1d_2 ( (None, 64)                0         \n",
      "_________________________________________________________________\n",
      "dense_2 (Dense)              (None, 1)                 65        \n",
      "=================================================================\n",
      "Total params: 344,897\n",
      "Trainable params: 344,897\n",
      "Non-trainable params: 0\n",
      "_________________________________________________________________\n"
     ]
    }
   ],
   "source": [
    "def get_model_BiLSTM(input_shape):\n",
    "    input = Input(shape=input_shape)\n",
    "    x = Bidirectional(LSTM(128, return_sequences=True, activation='tanh', dropout=0.3))(input)\n",
    "    x = Bidirectional(LSTM(64, return_sequences=True, activation='tanh', dropout=0.3))(x)\n",
    "    x = Bidirectional(LSTM(32, return_sequences=True, activation='tanh', dropout=0.3))(x)\n",
    "    x = GlobalAveragePooling1D()(x)\n",
    "    output = Dense(1)(x)\n",
    "    model = Model(input, output)\n",
    "    return model\n",
    "\n",
    "def get_model(input_shape):\n",
    "    input = Input(shape=input_shape)\n",
    "    x = LSTM(128, return_sequences=True, activation='tanh', dropout=0.2)(input)\n",
    "    x = LSTM(64, return_sequences=True, activation='tanh', dropout=0.2)(x)\n",
    "    x = LSTM(32, return_sequences=True, activation='tanh', dropout=0.2)(x)\n",
    "    x = GlobalAveragePooling1D()(x)\n",
    "    output = Dense(1)(x)\n",
    "    model = Model(input, output)\n",
    "    return model\n",
    "\n",
    "\n",
    "WINDOW_SIZE = 6\n",
    "feature_n = 6\n",
    "\n",
    "Bi_WINDOW_SIZE = 12\n",
    "Bi_feature_n = 7\n",
    "\n",
    "Input_shape = (Bi_WINDOW_SIZE, Bi_feature_n)\n",
    "model = get_model_BiLSTM(Input_shape)\n",
    "model.load_weights('../checkpoints/BiLSTM/ckeckpointer.ckpt')\n",
    "\n",
    "model.summary()"
   ]
  },
  {
   "cell_type": "code",
   "execution_count": 139,
   "id": "9e7cb12e",
   "metadata": {},
   "outputs": [
    {
     "name": "stdout",
     "output_type": "stream",
     "text": [
      "{'ticker': 'KRW-BTC', 'interval': 'minute10', 'to': '2021-10-01 00:00', 'count': 2000}\n"
     ]
    }
   ],
   "source": [
    "from easydict import EasyDict\n",
    "import datetime\n",
    "\n",
    "options = {\n",
    "    'ticker' : 'KRW-BTC',\n",
    "    'interval' : 'minute10',\n",
    "    'to' : '2021-10-01 00:00',\n",
    "    #'to' : datetime.datetime.now().strftime('%Y-%m-%d %H:%M'),\n",
    "    'count' : 2000\n",
    "}\n",
    "\n",
    "args = EasyDict(options)\n",
    "\n",
    "processed_data = Data_preprocess(args)"
   ]
  },
  {
   "cell_type": "code",
   "execution_count": 140,
   "id": "2c84e7a5",
   "metadata": {},
   "outputs": [
    {
     "name": "stdout",
     "output_type": "stream",
     "text": [
      "          open      high       low     close    volume     value  avg_price\n",
      "0     0.792001  0.783565  0.783430  0.785651  0.021673  0.023991   0.784375\n",
      "1     0.781751  0.776736  0.780859  0.775178  0.018869  0.020873   0.776669\n",
      "2     0.775067  0.775463  0.768784  0.762366  0.036609  0.040447   0.768216\n",
      "3     0.762812  0.769097  0.768784  0.770611  0.019964  0.022050   0.765599\n",
      "4     0.771836  0.763426  0.770125  0.759804  0.034966  0.038623   0.764075\n",
      "...        ...       ...       ...       ...       ...       ...        ...\n",
      "1995  0.282977  0.294792  0.286449  0.321635  0.067799  0.069455   0.284001\n",
      "1996  0.320521  0.293866  0.299866  0.310160  0.098109  0.100504   0.293950\n",
      "1997  0.309381  0.282870  0.304114  0.296123  0.063826  0.065371   0.285813\n",
      "1998  0.296234  0.281481  0.299195  0.309381  0.060492  0.061886   0.284231\n",
      "1999  0.309381  0.288426  0.303667  0.304479  0.028986  0.029689   0.289235\n",
      "\n",
      "[2000 rows x 7 columns]\n"
     ]
    }
   ],
   "source": [
    "print(processed_data.data)"
   ]
  },
  {
   "cell_type": "code",
   "execution_count": 141,
   "id": "3b6cac5d",
   "metadata": {},
   "outputs": [
    {
     "name": "stdout",
     "output_type": "stream",
     "text": [
      "0       0.775178\n",
      "1       0.762366\n",
      "2       0.770611\n",
      "3       0.759804\n",
      "4       0.776404\n",
      "          ...   \n",
      "1995    0.310160\n",
      "1996    0.296123\n",
      "1997    0.309381\n",
      "1998    0.304479\n",
      "1999    0.000000\n",
      "Name: after10, Length: 2000, dtype: float64\n"
     ]
    }
   ],
   "source": [
    "print(processed_data.label)"
   ]
  },
  {
   "cell_type": "code",
   "execution_count": 142,
   "id": "8523026d",
   "metadata": {},
   "outputs": [],
   "source": [
    "def inference(lstm_model, processed_data, window_size, batch_size):\n",
    "    dataset = processed_data.windowed_dataset(processed_data.data, processed_data.label, window_size, batch_size)\n",
    "    pred = lstm_model.predict(dataset)\n",
    "    pred = pred[:, 0]\n",
    "    \n",
    "    return pred"
   ]
  },
  {
   "cell_type": "code",
   "execution_count": 143,
   "id": "41894a43",
   "metadata": {},
   "outputs": [],
   "source": [
    "Bi_WINDOW_SIZE = 12\n",
    "\n",
    "WINDOW_SIZE = 6\n",
    "BATCH_SIZE=1\n",
    "\n",
    "pred = inference(model, processed_data, Bi_WINDOW_SIZE, BATCH_SIZE)\n"
   ]
  },
  {
   "cell_type": "code",
   "execution_count": 144,
   "id": "01efc3dc",
   "metadata": {},
   "outputs": [],
   "source": [
    "actual = processed_data.label[WINDOW_SIZE:].reset_index(drop=True)"
   ]
  },
  {
   "cell_type": "code",
   "execution_count": 145,
   "id": "281b90b4",
   "metadata": {},
   "outputs": [
    {
     "data": {
      "text/plain": [
       "0       0.782977\n",
       "1       0.788436\n",
       "2       0.794786\n",
       "3       0.802250\n",
       "4       0.800245\n",
       "          ...   \n",
       "1989    0.310160\n",
       "1990    0.296123\n",
       "1991    0.309381\n",
       "1992    0.304479\n",
       "1993    0.000000\n",
       "Name: after10, Length: 1994, dtype: float64"
      ]
     },
     "execution_count": 145,
     "metadata": {},
     "output_type": "execute_result"
    }
   ],
   "source": [
    "actual"
   ]
  },
  {
   "cell_type": "code",
   "execution_count": 146,
   "id": "ef29809d",
   "metadata": {},
   "outputs": [
    {
     "name": "stderr",
     "output_type": "stream",
     "text": [
      "c:\\users\\sub\\anaconda3\\envs\\coin\\lib\\site-packages\\ipykernel_launcher.py:16: RuntimeWarning: divide by zero encountered in double_scalars\n",
      "  app.launch_new_instance()\n"
     ]
    }
   ],
   "source": [
    "pred_rate_val = []\n",
    "act_rate_val = []\n",
    "accuracy = []\n",
    "\n",
    "for i in range(0, len(pred) - 2) :\n",
    "    rate_pred = pred[i + 1]/pred[i]\n",
    "    pred_rate_val.append(rate_pred)\n",
    "    \n",
    "    if rate_pred < 1:\n",
    "        # Down\n",
    "        pred_tmp = 0\n",
    "    else:\n",
    "        # Up\n",
    "        pred_tmp = 1\n",
    "        \n",
    "    rate_act = actual[i + 2] / actual[i + 1]\n",
    "    act_rate_val.append(rate_act)\n",
    "    \n",
    "    if rate_act < 1:\n",
    "        # Down\n",
    "        act_tmp = 0\n",
    "    else:\n",
    "        # Up\n",
    "        act_tmp = 1\n",
    "        \n",
    "    if pred_tmp == act_tmp :\n",
    "        accuracy.append(1)\n",
    "    else :\n",
    "        accuracy.append(0)"
   ]
  },
  {
   "cell_type": "code",
   "execution_count": 147,
   "id": "564770b0",
   "metadata": {},
   "outputs": [
    {
     "data": {
      "text/plain": [
       "0.5725075528700906"
      ]
     },
     "execution_count": 147,
     "metadata": {},
     "output_type": "execute_result"
    }
   ],
   "source": [
    "# 정확도\n",
    "sum(accuracy) / len(accuracy)"
   ]
  },
  {
   "cell_type": "code",
   "execution_count": 177,
   "id": "9126b024",
   "metadata": {
    "scrolled": true
   },
   "outputs": [],
   "source": [
    "import numpy as np\n",
    "\n",
    "np_pred_rate_val = np.array(pred_rate_val)\n",
    "np_accuracy = np.array(accuracy)"
   ]
  },
  {
   "cell_type": "code",
   "execution_count": 178,
   "id": "a095de42",
   "metadata": {
    "scrolled": true
   },
   "outputs": [
    {
     "name": "stdout",
     "output_type": "stream",
     "text": [
      "[1.0017225  1.0021765  1.0021061  ... 0.99473625 0.99478745 0.9929305 ]\n",
      "(1986,)\n"
     ]
    }
   ],
   "source": [
    "import copy\n",
    "\n",
    "print(np_pred_rate_val)\n",
    "print(np_accuracy.shape)\n",
    "\n",
    "a_np_pred_rate_val =  copy.deepcopy(np_pred_rate_val)\n",
    "b_np_pred_rate_val =  copy.deepcopy(np_pred_rate_val)"
   ]
  },
  {
   "cell_type": "markdown",
   "id": "f636775b",
   "metadata": {},
   "source": [
    "# 몇 퍼센트 올랐는지 구하기 - 절대값 없이"
   ]
  },
  {
   "cell_type": "code",
   "execution_count": 179,
   "id": "3ff6e9c9",
   "metadata": {
    "scrolled": true
   },
   "outputs": [
    {
     "data": {
      "text/plain": [
       "array([ 0.1722455 ,  0.21765232,  0.21060705, ..., -0.5263746 ,\n",
       "       -0.52125454, -0.7069528 ], dtype=float32)"
      ]
     },
     "execution_count": 179,
     "metadata": {},
     "output_type": "execute_result"
    }
   ],
   "source": [
    "a_np_pred_rate_val = a_np_pred_rate_val - 1\n",
    "a_np_pred_rate_val = a_np_pred_rate_val * 100\n",
    "a_np_pred_rate_val"
   ]
  },
  {
   "cell_type": "markdown",
   "id": "174d8904",
   "metadata": {},
   "source": [
    "### 정답이 값 중에서 가장 큰 값과 가장 작은 값"
   ]
  },
  {
   "cell_type": "code",
   "execution_count": 151,
   "id": "73be2d91",
   "metadata": {
    "scrolled": true
   },
   "outputs": [
    {
     "name": "stdout",
     "output_type": "stream",
     "text": [
      "(1137,)\n",
      "-9.773546\n",
      "12.804341\n"
     ]
    },
    {
     "data": {
      "text/plain": [
       "array([ 0.1722455  ,  0.21765232 ,  0.008273125, ..., -0.25044084 ,\n",
       "       -0.5263746  , -0.7069528  ], dtype=float32)"
      ]
     },
     "execution_count": 151,
     "metadata": {},
     "output_type": "execute_result"
    }
   ],
   "source": [
    "correct = a_np_pred_rate_val[ np_accuracy[:]==1 ]\n",
    "print(correct.shape)\n",
    "print(min(correct))\n",
    "print(max(correct))\n",
    "correct"
   ]
  },
  {
   "cell_type": "markdown",
   "id": "ce02bbbf",
   "metadata": {},
   "source": [
    "### % 구간 정리 - 대체적으로 -10 ~ +10 사이인듯 (최근 데이터 기준)"
   ]
  },
  {
   "cell_type": "code",
   "execution_count": 163,
   "id": "8f7d6b1b",
   "metadata": {},
   "outputs": [
    {
     "name": "stdout",
     "output_type": "stream",
     "text": [
      "-9.77354621887207 ~ -0.0005602836608886719\n",
      "(548,)\n",
      "0.0019788742065429688 ~ 12.804341316223145\n",
      "(589,)\n"
     ]
    }
   ],
   "source": [
    "correct_down = correct[correct[:] < 0]\n",
    "print(f\"{min(correct_down)} ~ {max(correct_down)}\")\n",
    "print(correct_down.shape)\n",
    "\n",
    "correct_up = correct[correct[:] > 0]\n",
    "print(f\"{min(correct_up)} ~ {max(correct_up)}\")\n",
    "print(correct_up.shape)"
   ]
  },
  {
   "cell_type": "markdown",
   "id": "de6c4cfc",
   "metadata": {},
   "source": [
    "### 각 1퍼센트 기준으로 구간을 나누고 정답 개수 출력"
   ]
  },
  {
   "cell_type": "code",
   "execution_count": 194,
   "id": "0e4c8c59",
   "metadata": {
    "scrolled": true
   },
   "outputs": [
    {
     "name": "stdout",
     "output_type": "stream",
     "text": [
      "정답 개수 : (390,) / (589,)\n",
      "(504,)\n",
      "\n",
      "정답 개수 : (114,) / (589,)\n",
      "(547,)\n",
      "\n",
      "정답 개수 : (43,) / (589,)\n",
      "(560,)\n",
      "\n",
      "정답 개수 : (13,) / (589,)\n",
      "(571,)\n",
      "\n",
      "정답 개수 : (11,) / (589,)\n",
      "(573,)\n",
      "\n",
      "정답 개수 : (2,) / (589,)\n",
      "(575,)\n",
      "\n",
      "정답 개수 : (2,) / (589,)\n",
      "(581,)\n",
      "\n",
      "정답 개수 : (6,) / (589,)\n",
      "(585,)\n",
      "\n",
      "정답 개수 : (4,) / (589,)\n",
      "(586,)\n",
      "\n",
      "정답 개수 : (1,) / (589,)\n",
      "(587,)\n",
      "\n",
      "정답 개수 : (1,) / (589,)\n",
      "(588,)\n",
      "\n",
      "정답 개수 : (1,) / (589,)\n",
      "(589,)\n",
      "\n"
     ]
    }
   ],
   "source": [
    "correct_tmp = correct[correct[:] > 0 ]\n",
    "\n",
    "correct_1 = correct_tmp[correct_tmp[:] < 1 ]\n",
    "correct_UP = correct_tmp[correct_tmp[:] < 2 ]\n",
    "print(f\"정답 개수 : {correct_1.shape} / {correct_tmp.shape}\")\n",
    "print(correct_UP.shape)\n",
    "print()\n",
    "\n",
    "correct_2 = correct_UP[correct_UP[:] > 1 ]\n",
    "correct_UP = correct_tmp[correct_tmp[:] < 3 ]\n",
    "print(f\"정답 개수 : {correct_2.shape} / {correct_tmp.shape}\")\n",
    "print(correct_UP.shape)\n",
    "print()\n",
    "\n",
    "correct_3 = correct_UP[correct_UP[:] > 2 ]\n",
    "correct_UP = correct_tmp[correct_tmp[:] < 4 ]\n",
    "print(f\"정답 개수 : {correct_3.shape} / {correct_tmp.shape}\")\n",
    "print(correct_UP.shape)\n",
    "print()\n",
    "\n",
    "correct_4 = correct_UP[correct_UP[:] > 3 ]\n",
    "correct_UP = correct_tmp[correct_tmp[:] < 5 ]\n",
    "print(f\"정답 개수 : {correct_4.shape} / {correct_tmp.shape}\")\n",
    "print(correct_UP.shape)\n",
    "print()\n",
    "\n",
    "correct_5 = correct_UP[correct_UP[:] > 4 ]\n",
    "correct_UP = correct_tmp[correct_tmp[:] < 6 ]\n",
    "print(f\"정답 개수 : {correct_5.shape} / {correct_tmp.shape}\")\n",
    "print(correct_UP.shape)\n",
    "print()\n",
    "\n",
    "correct_6 = correct_UP[correct_UP[:] > 5 ]\n",
    "correct_UP = correct_tmp[correct_tmp[:] < 7 ]\n",
    "print(f\"정답 개수 : {correct_6.shape} / {correct_tmp.shape}\")\n",
    "print(correct_UP.shape)\n",
    "print()\n",
    "\n",
    "correct_7 = correct_UP[correct_UP[:] > 6 ]\n",
    "correct_UP = correct_tmp[correct_tmp[:] < 8 ]\n",
    "print(f\"정답 개수 : {correct_7.shape} / {correct_tmp.shape}\")\n",
    "print(correct_UP.shape)\n",
    "print()\n",
    "\n",
    "correct_8 = correct_UP[correct_UP[:] > 7 ]\n",
    "correct_UP = correct_tmp[correct_tmp[:] < 9 ]\n",
    "print(f\"정답 개수 : {correct_8.shape} / {correct_tmp.shape}\")\n",
    "print(correct_UP.shape)\n",
    "print()\n",
    "\n",
    "correct_9 = correct_UP[correct_UP[:] > 8 ]\n",
    "correct_UP = correct_tmp[correct_tmp[:] < 10 ]\n",
    "print(f\"정답 개수 : {correct_9.shape} / {correct_tmp.shape}\")\n",
    "print(correct_UP.shape)\n",
    "print()\n",
    "\n",
    "correct_10 = correct_UP[correct_UP[:] > 9 ]\n",
    "correct_UP = correct_tmp[correct_tmp[:] < 11 ]\n",
    "print(f\"정답 개수 : {correct_10.shape} / {correct_tmp.shape}\")\n",
    "print(correct_UP.shape)\n",
    "print()\n",
    "\n",
    "correct_11 = correct_UP[correct_UP[:] > 10 ]\n",
    "correct_UP = correct_tmp[correct_tmp[:] < 12 ]\n",
    "print(f\"정답 개수 : {correct_11.shape} / {correct_tmp.shape}\")\n",
    "print(correct_UP.shape)\n",
    "print()\n",
    "\n",
    "correct_12 = correct_UP[correct_UP[:] > 11 ]\n",
    "correct_UP = correct_tmp[correct_tmp[:] < 13 ]\n",
    "print(f\"정답 개수 : {correct_12.shape} / {correct_tmp.shape}\")\n",
    "print(correct_UP.shape)\n",
    "print()"
   ]
  },
  {
   "cell_type": "markdown",
   "id": "aaad6365",
   "metadata": {},
   "source": [
    "### 구간 별 정답 개수 찾기"
   ]
  },
  {
   "cell_type": "code",
   "execution_count": null,
   "id": "77af90f8",
   "metadata": {},
   "outputs": [],
   "source": [
    "correct_tmp = correct[correct[:] > 0 ]\n",
    "\n",
    "correct_1 = correct_tmp[correct_tmp[:] < 1 ]\n",
    "correct_UP = correct_tmp[correct_tmp[:] < 2 ]\n",
    "print(correct_1.shape)\n",
    "print(correct_UP.shape)\n",
    "print()\n",
    "\n",
    "bool_correct = copy.deepcopy(correct_tmp)\n",
    "bool_correct[ np_accuracy[:]==1 ] = -1\n",
    "print(bool_correct.shape)\n",
    "print(min(bool_correct))\n",
    "print(max(bool_correct))\n",
    "print(bool_correct)\n",
    "\n",
    "correct_1[]\n"
   ]
  },
  {
   "cell_type": "markdown",
   "id": "48e41be3",
   "metadata": {},
   "source": [
    "### 모든 값들 중 가장 변화율이 큰 값과 작은 값"
   ]
  },
  {
   "cell_type": "code",
   "execution_count": 181,
   "id": "f1517c44",
   "metadata": {},
   "outputs": [
    {
     "name": "stdout",
     "output_type": "stream",
     "text": [
      "(1986,)\n",
      "-10.377079\n",
      "12.804341\n"
     ]
    }
   ],
   "source": [
    "print(a_np_pred_rate_val.shape)\n",
    "print(min(a_np_pred_rate_val))\n",
    "print(max(a_np_pred_rate_val))\n",
    "a_correct = copy.deepcopy(a_np_pred_rate_val)"
   ]
  },
  {
   "cell_type": "markdown",
   "id": "767e6db8",
   "metadata": {},
   "source": [
    "### % 구간 정리 - 대체적으로 -10 ~ +10 사이인듯 (최근 데이터 기준)"
   ]
  },
  {
   "cell_type": "code",
   "execution_count": 182,
   "id": "a22194e9",
   "metadata": {},
   "outputs": [
    {
     "name": "stdout",
     "output_type": "stream",
     "text": [
      "-10.377079010009766 ~ -0.0005602836608886719\n",
      "(977,)\n",
      "0.0010251998901367188 ~ 12.804341316223145\n",
      "(1009,)\n"
     ]
    }
   ],
   "source": [
    "correct_down = a_correct[a_correct[:] < 0]\n",
    "print(f\"{min(correct_down)} ~ {max(correct_down)}\")\n",
    "print(correct_down.shape)\n",
    "\n",
    "correct_up = a_correct[a_correct[:] > 0]\n",
    "print(f\"{min(correct_up)} ~ {max(correct_up)}\")\n",
    "print(correct_up.shape)"
   ]
  },
  {
   "cell_type": "markdown",
   "id": "4ef89435",
   "metadata": {},
   "source": [
    "### 각 1퍼센트 기준으로 구간을 나누고 개수 출력"
   ]
  },
  {
   "cell_type": "code",
   "execution_count": 185,
   "id": "508b7b54",
   "metadata": {
    "scrolled": true
   },
   "outputs": [
    {
     "name": "stdout",
     "output_type": "stream",
     "text": [
      "(699,)\n",
      "(876,)\n",
      "\n",
      "(177,)\n",
      "(943,)\n",
      "\n",
      "(67,)\n",
      "(965,)\n",
      "\n",
      "(22,)\n",
      "(978,)\n",
      "\n",
      "(13,)\n",
      "(983,)\n",
      "\n",
      "(5,)\n",
      "(991,)\n",
      "\n",
      "(8,)\n",
      "(998,)\n",
      "\n",
      "(7,)\n",
      "(1003,)\n",
      "\n",
      "(5,)\n",
      "(1005,)\n",
      "\n",
      "(2,)\n",
      "(1007,)\n",
      "\n",
      "(2,)\n",
      "(1008,)\n",
      "\n",
      "(1,)\n",
      "(1009,)\n",
      "\n"
     ]
    }
   ],
   "source": [
    "correct_tmp = a_correct[a_correct[:] > 0 ]\n",
    "\n",
    "correct_1 = correct_tmp[correct_tmp[:] < 1 ]\n",
    "correct_UP = correct_tmp[correct_tmp[:] < 2 ]\n",
    "print(correct_1.shape)\n",
    "print(correct_UP.shape)\n",
    "print()\n",
    "\n",
    "correct_2 = correct_UP[correct_UP[:] > 1 ]\n",
    "correct_UP = correct_tmp[correct_tmp[:] < 3 ]\n",
    "print(correct_2.shape)\n",
    "print(correct_UP.shape)\n",
    "print()\n",
    "\n",
    "correct_3 = correct_UP[correct_UP[:] > 2 ]\n",
    "correct_UP = correct_tmp[correct_tmp[:] < 4 ]\n",
    "print(correct_3.shape)\n",
    "print(correct_UP.shape)\n",
    "print()\n",
    "\n",
    "correct_4 = correct_UP[correct_UP[:] > 3 ]\n",
    "correct_UP = correct_tmp[correct_tmp[:] < 5 ]\n",
    "print(correct_4.shape)\n",
    "print(correct_UP.shape)\n",
    "print()\n",
    "\n",
    "correct_5 = correct_UP[correct_UP[:] > 4 ]\n",
    "correct_UP = correct_tmp[correct_tmp[:] < 6 ]\n",
    "print(correct_5.shape)\n",
    "print(correct_UP.shape)\n",
    "print()\n",
    "\n",
    "correct_6 = correct_UP[correct_UP[:] > 5 ]\n",
    "correct_UP = correct_tmp[correct_tmp[:] < 7 ]\n",
    "print(correct_6.shape)\n",
    "print(correct_UP.shape)\n",
    "print()\n",
    "\n",
    "correct_7 = correct_UP[correct_UP[:] > 6 ]\n",
    "correct_UP = correct_tmp[correct_tmp[:] < 8 ]\n",
    "print(correct_7.shape)\n",
    "print(correct_UP.shape)\n",
    "print()\n",
    "\n",
    "correct_8 = correct_UP[correct_UP[:] > 7 ]\n",
    "correct_UP = correct_tmp[correct_tmp[:] < 9 ]\n",
    "print(correct_8.shape)\n",
    "print(correct_UP.shape)\n",
    "print()\n",
    "\n",
    "correct_9 = correct_UP[correct_UP[:] > 8 ]\n",
    "correct_UP = correct_tmp[correct_tmp[:] < 10 ]\n",
    "print(correct_9.shape)\n",
    "print(correct_UP.shape)\n",
    "print()\n",
    "\n",
    "correct_10 = correct_UP[correct_UP[:] > 9 ]\n",
    "correct_UP = correct_tmp[correct_tmp[:] < 11 ]\n",
    "print(correct_10.shape)\n",
    "print(correct_UP.shape)\n",
    "print()\n",
    "\n",
    "correct_11 = correct_UP[correct_UP[:] > 10 ]\n",
    "correct_UP = correct_tmp[correct_tmp[:] < 12 ]\n",
    "print(correct_11.shape)\n",
    "print(correct_UP.shape)\n",
    "print()\n",
    "\n",
    "correct_12 = correct_UP[correct_UP[:] > 11 ]\n",
    "correct_UP = correct_tmp[correct_tmp[:] < 13 ]\n",
    "print(correct_12.shape)\n",
    "print(correct_UP.shape)\n",
    "print()"
   ]
  },
  {
   "cell_type": "markdown",
   "id": "c645dc04",
   "metadata": {},
   "source": [
    "### 구간 별 누적그래프 그려보기"
   ]
  },
  {
   "cell_type": "code",
   "execution_count": null,
   "id": "13991dda",
   "metadata": {},
   "outputs": [],
   "source": []
  },
  {
   "cell_type": "markdown",
   "id": "4c5153e6",
   "metadata": {},
   "source": [
    "### 각 구간 별 정답 개수 체크"
   ]
  },
  {
   "cell_type": "code",
   "execution_count": 192,
   "id": "5e5c42c5",
   "metadata": {},
   "outputs": [
    {
     "name": "stdout",
     "output_type": "stream",
     "text": [
      "(699,)\n",
      "(876,)\n",
      "\n",
      "(1986,)\n",
      "-10.377079\n",
      "10.152971\n",
      "[-1.         -1.          0.21060705 ... -1.         -0.52125454\n",
      " -1.        ]\n"
     ]
    }
   ],
   "source": [
    "correct_tmp = a_correct[a_correct[:] > 0 ]\n",
    "\n",
    "correct_1 = correct_tmp[correct_tmp[:] < 1 ]\n",
    "correct_UP = correct_tmp[correct_tmp[:] < 2 ]\n",
    "print(correct_1.shape)\n",
    "print(correct_UP.shape)\n",
    "print()\n",
    "\n",
    "bool_correct = copy.deepcopy(correct_tmp)\n",
    "bool_correct[ np_accuracy[:]==1 ] = -1\n",
    "print(bool_correct.shape)\n",
    "print(min(bool_correct))\n",
    "print(max(bool_correct))\n",
    "print(bool_correct)\n",
    "\n",
    "correct_1[]\n"
   ]
  },
  {
   "cell_type": "code",
   "execution_count": null,
   "id": "06235254",
   "metadata": {},
   "outputs": [],
   "source": []
  },
  {
   "cell_type": "code",
   "execution_count": null,
   "id": "4af7b17c",
   "metadata": {},
   "outputs": [],
   "source": []
  },
  {
   "cell_type": "code",
   "execution_count": null,
   "id": "e4594713",
   "metadata": {},
   "outputs": [],
   "source": []
  },
  {
   "cell_type": "code",
   "execution_count": 46,
   "id": "768a6f62",
   "metadata": {
    "scrolled": true
   },
   "outputs": [
    {
     "data": {
      "text/plain": [
       "array([0.       , 0.       , 0.       , ..., 1.0102553, 1.0171678,\n",
       "       1.0174936], dtype=float32)"
      ]
     },
     "execution_count": 46,
     "metadata": {},
     "output_type": "execute_result"
    }
   ],
   "source": [
    "a_np_pred_rate_val[ np_accuracy[:]==1 ] = 0\n",
    "a_np_pred_rate_val"
   ]
  },
  {
   "cell_type": "code",
   "execution_count": 19,
   "id": "a796550a",
   "metadata": {},
   "outputs": [
    {
     "data": {
      "text/plain": [
       "array([0.9923874 , 0.99104947, 0.98621666, ..., 0.        , 0.        ,\n",
       "       0.        ], dtype=float32)"
      ]
     },
     "execution_count": 19,
     "metadata": {},
     "output_type": "execute_result"
    }
   ],
   "source": [
    "b_np_pred_rate_val[ np_accuracy[:]==False ] = 0\n",
    "b_np_pred_rate_val"
   ]
  },
  {
   "cell_type": "code",
   "execution_count": 20,
   "id": "2ad710d8",
   "metadata": {},
   "outputs": [],
   "source": [
    "np_pred_rate_val[ np_accuracy[:]==1 ] = 0"
   ]
  },
  {
   "cell_type": "code",
   "execution_count": 21,
   "id": "3b6532fe",
   "metadata": {},
   "outputs": [
    {
     "name": "stdout",
     "output_type": "stream",
     "text": [
      "155\n"
     ]
    }
   ],
   "source": [
    "print(992 - np.count_nonzero(np_pred_rate_val))"
   ]
  },
  {
   "cell_type": "code",
   "execution_count": 22,
   "id": "078d868a",
   "metadata": {},
   "outputs": [
    {
     "data": {
      "text/plain": [
       "1149"
      ]
     },
     "execution_count": 22,
     "metadata": {},
     "output_type": "execute_result"
    }
   ],
   "source": [
    "c = 0\n",
    "for i in np_pred_rate_val:\n",
    "    if i == 0:\n",
    "        c += 1\n",
    "c"
   ]
  },
  {
   "cell_type": "code",
   "execution_count": 23,
   "id": "533a5b30",
   "metadata": {},
   "outputs": [
    {
     "data": {
      "text/plain": [
       "1.1570996978851964"
      ]
     },
     "execution_count": 23,
     "metadata": {},
     "output_type": "execute_result"
    }
   ],
   "source": [
    "c/993"
   ]
  },
  {
   "cell_type": "code",
   "execution_count": null,
   "id": "d9c6f571",
   "metadata": {},
   "outputs": [],
   "source": []
  },
  {
   "cell_type": "code",
   "execution_count": null,
   "id": "8928e886",
   "metadata": {},
   "outputs": [],
   "source": []
  }
 ],
 "metadata": {
  "kernelspec": {
   "display_name": "Python 3",
   "language": "python",
   "name": "python3"
  },
  "language_info": {
   "codemirror_mode": {
    "name": "ipython",
    "version": 3
   },
   "file_extension": ".py",
   "mimetype": "text/x-python",
   "name": "python",
   "nbconvert_exporter": "python",
   "pygments_lexer": "ipython3",
   "version": "3.6.13"
  }
 },
 "nbformat": 4,
 "nbformat_minor": 5
}
