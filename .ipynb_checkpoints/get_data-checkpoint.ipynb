{
 "cells": [
  {
   "cell_type": "code",
   "execution_count": 49,
   "id": "6e99d90d",
   "metadata": {},
   "outputs": [],
   "source": [
    "import pandas as pd\n",
    "from pandas import DataFrame\n",
    "import pyupbit\n",
    "import os\n",
    "from tqdm import tqdm"
   ]
  },
  {
   "cell_type": "code",
   "execution_count": 58,
   "id": "67e05251",
   "metadata": {
    "scrolled": true
   },
   "outputs": [],
   "source": [
    "def coin_data(ticker, date_y, date_m, date_d):\n",
    "    \n",
    "    if len(str(date_m)) < 2:\n",
    "        date_m = \"0\"+str(date_m)\n",
    "        \n",
    "    if len(str(date_d)) < 2:\n",
    "        date_d = \"0\"+str(date_d)\n",
    "        \n",
    "    save_path = \"./data/\" + str(date_y) + \"_\" + str(date_m)\n",
    "    \n",
    "    os.makedirs(save_path, exist_ok=True)\n",
    "    \n",
    "    interval = 'minute10'\n",
    "    \n",
    "    count = 144\n",
    "    \n",
    "    to = f'{date_y}-{date_m}-{date_d} 00:00'\n",
    "    save_name = to.split(' ')[0]\n",
    "\n",
    "    df = pyupbit.get_ohlcv(ticker=ticker,interval=interval,to=to,count=count)\n",
    "    \n",
    "    try :\n",
    "        df.to_csv(save_path + '/'+str(save_name)+'.csv')\n",
    "    except :\n",
    "        print(to)\n",
    "        return None\n"
   ]
  },
  {
   "cell_type": "code",
   "execution_count": 57,
   "id": "173e8284",
   "metadata": {},
   "outputs": [
    {
     "name": "stdout",
     "output_type": "stream",
     "text": [
      "current year : 2017\n"
     ]
    },
    {
     "name": "stderr",
     "output_type": "stream",
     "text": [
      "100%|███████████████████████████████████████████████████████████████████████████████████| 12/12 [00:23<00:00,  1.96s/it]\n"
     ]
    },
    {
     "name": "stdout",
     "output_type": "stream",
     "text": [
      "current year : 2018\n"
     ]
    },
    {
     "name": "stderr",
     "output_type": "stream",
     "text": [
      "100%|███████████████████████████████████████████████████████████████████████████████████| 12/12 [00:26<00:00,  2.17s/it]\n"
     ]
    },
    {
     "name": "stdout",
     "output_type": "stream",
     "text": [
      "current year : 2019\n"
     ]
    },
    {
     "name": "stderr",
     "output_type": "stream",
     "text": [
      "100%|███████████████████████████████████████████████████████████████████████████████████| 12/12 [00:26<00:00,  2.21s/it]\n"
     ]
    },
    {
     "name": "stdout",
     "output_type": "stream",
     "text": [
      "current year : 2020\n"
     ]
    },
    {
     "name": "stderr",
     "output_type": "stream",
     "text": [
      "100%|███████████████████████████████████████████████████████████████████████████████████| 12/12 [00:27<00:00,  2.30s/it]\n"
     ]
    },
    {
     "name": "stdout",
     "output_type": "stream",
     "text": [
      "current year : 2021\n"
     ]
    },
    {
     "name": "stderr",
     "output_type": "stream",
     "text": [
      "100%|███████████████████████████████████████████████████████████████████████████████████| 12/12 [00:26<00:00,  2.20s/it]\n"
     ]
    }
   ],
   "source": [
    "ticker = 'KRW-BTC'\n",
    "years = [2017, 2018, 2019, 2020, 2021]\n",
    "\n",
    "for year in years :\n",
    "    print(\"current year : \" + str(year))\n",
    "    for month in tqdm(range(1, 13)) :\n",
    "        for day in range(1, 32) :\n",
    "            coin_data(ticker, year, month, day)\n"
   ]
  }
 ],
 "metadata": {
  "kernelspec": {
   "display_name": "Python 3",
   "language": "python",
   "name": "python3"
  },
  "language_info": {
   "codemirror_mode": {
    "name": "ipython",
    "version": 3
   },
   "file_extension": ".py",
   "mimetype": "text/x-python",
   "name": "python",
   "nbconvert_exporter": "python",
   "pygments_lexer": "ipython3",
   "version": "3.6.13"
  }
 },
 "nbformat": 4,
 "nbformat_minor": 5
}
